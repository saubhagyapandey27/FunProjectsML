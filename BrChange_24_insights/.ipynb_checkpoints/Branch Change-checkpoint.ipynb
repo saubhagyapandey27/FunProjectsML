{
 "cells": [
  {
   "cell_type": "code",
   "execution_count": 5,
   "id": "e49aafa8-15b9-4b0b-8c15-0985f99b21ac",
   "metadata": {},
   "outputs": [],
   "source": [
    "with open(\"BClist.txt\",\"r\") as file:\n",
    "    str=file.read()"
   ]
  },
  {
   "cell_type": "code",
   "execution_count": 6,
   "id": "5c3f24cf-5d82-45f4-83db-6c662709b74f",
   "metadata": {},
   "outputs": [],
   "source": [
    "l1=str.split('\\n')"
   ]
  },
  {
   "cell_type": "code",
   "execution_count": 7,
   "id": "d14ead5f-27e3-480f-b194-db9f2854806b",
   "metadata": {},
   "outputs": [],
   "source": [
    "l2=[]\n",
    "for i in l1:\n",
    "    lst1=[]\n",
    "    lst2=i.split('|')\n",
    "    for j in range(len(lst2)):\n",
    "        if lst2[j]!='':\n",
    "            lst1.append(lst2[j].strip())\n",
    "    l2.append(lst1)"
   ]
  },
  {
   "cell_type": "code",
   "execution_count": 8,
   "id": "aa5d6a91-bf96-44d9-be14-5a1196198e47",
   "metadata": {},
   "outputs": [],
   "source": [
    "import pandas as pd"
   ]
  },
  {
   "cell_type": "code",
   "execution_count": 9,
   "id": "95457e0b-e4ae-4ea7-a890-e15c79ee3c66",
   "metadata": {},
   "outputs": [],
   "source": [
    "df=pd.DataFrame(l2)"
   ]
  },
  {
   "cell_type": "code",
   "execution_count": 10,
   "id": "47c80796-a5dc-4c17-ad50-492022d823c3",
   "metadata": {},
   "outputs": [
    {
     "data": {
      "text/html": [
       "<div>\n",
       "<style scoped>\n",
       "    .dataframe tbody tr th:only-of-type {\n",
       "        vertical-align: middle;\n",
       "    }\n",
       "\n",
       "    .dataframe tbody tr th {\n",
       "        vertical-align: top;\n",
       "    }\n",
       "\n",
       "    .dataframe thead th {\n",
       "        text-align: right;\n",
       "    }\n",
       "</style>\n",
       "<table border=\"1\" class=\"dataframe\">\n",
       "  <thead>\n",
       "    <tr style=\"text-align: right;\">\n",
       "      <th></th>\n",
       "      <th>0</th>\n",
       "      <th>1</th>\n",
       "      <th>2</th>\n",
       "      <th>3</th>\n",
       "      <th>4</th>\n",
       "    </tr>\n",
       "  </thead>\n",
       "  <tbody>\n",
       "    <tr>\n",
       "      <th>0</th>\n",
       "      <td>1</td>\n",
       "      <td>230012</td>\n",
       "      <td>AARAV OSWAL</td>\n",
       "      <td>MTH</td>\n",
       "      <td>CSE</td>\n",
       "    </tr>\n",
       "    <tr>\n",
       "      <th>1</th>\n",
       "      <td>2</td>\n",
       "      <td>231065</td>\n",
       "      <td>SUVID GOEL</td>\n",
       "      <td>EE</td>\n",
       "      <td>CSE</td>\n",
       "    </tr>\n",
       "    <tr>\n",
       "      <th>2</th>\n",
       "      <td>3</td>\n",
       "      <td>230015</td>\n",
       "      <td>AARSH JAIN</td>\n",
       "      <td>MTH</td>\n",
       "      <td>CSE</td>\n",
       "    </tr>\n",
       "    <tr>\n",
       "      <th>3</th>\n",
       "      <td>4</td>\n",
       "      <td>230017</td>\n",
       "      <td>AARUSH NARENDRA GHATE</td>\n",
       "      <td>EE</td>\n",
       "      <td>CSE</td>\n",
       "    </tr>\n",
       "    <tr>\n",
       "      <th>4</th>\n",
       "      <td>5</td>\n",
       "      <td>230293</td>\n",
       "      <td>BHAVNOOR SINGH</td>\n",
       "      <td>ME</td>\n",
       "      <td>CSE</td>\n",
       "    </tr>\n",
       "    <tr>\n",
       "      <th>...</th>\n",
       "      <td>...</td>\n",
       "      <td>...</td>\n",
       "      <td>...</td>\n",
       "      <td>...</td>\n",
       "      <td>...</td>\n",
       "    </tr>\n",
       "    <tr>\n",
       "      <th>100</th>\n",
       "      <td>101</td>\n",
       "      <td>230288</td>\n",
       "      <td>BHARAMBE SARVESH PURUSHOTTAM</td>\n",
       "      <td>PHY</td>\n",
       "      <td>CE</td>\n",
       "    </tr>\n",
       "    <tr>\n",
       "      <th>101</th>\n",
       "      <td>102</td>\n",
       "      <td>230138</td>\n",
       "      <td>ANIKEIT KHANNA</td>\n",
       "      <td>BSBE</td>\n",
       "      <td>CE</td>\n",
       "    </tr>\n",
       "    <tr>\n",
       "      <th>102</th>\n",
       "      <td>103</td>\n",
       "      <td>231106</td>\n",
       "      <td>UDIT CHOUDHARY</td>\n",
       "      <td>PHY</td>\n",
       "      <td>CE</td>\n",
       "    </tr>\n",
       "    <tr>\n",
       "      <th>103</th>\n",
       "      <td>104</td>\n",
       "      <td>230366</td>\n",
       "      <td>DHRUV KUMAR</td>\n",
       "      <td>PHY</td>\n",
       "      <td>CE</td>\n",
       "    </tr>\n",
       "    <tr>\n",
       "      <th>104</th>\n",
       "      <td>105</td>\n",
       "      <td>231150</td>\n",
       "      <td>VIKAS MEENA</td>\n",
       "      <td>AE</td>\n",
       "      <td>CE</td>\n",
       "    </tr>\n",
       "  </tbody>\n",
       "</table>\n",
       "<p>105 rows × 5 columns</p>\n",
       "</div>"
      ],
      "text/plain": [
       "       0       1                             2     3    4\n",
       "0      1  230012                   AARAV OSWAL   MTH  CSE\n",
       "1      2  231065                    SUVID GOEL    EE  CSE\n",
       "2      3  230015                    AARSH JAIN   MTH  CSE\n",
       "3      4  230017         AARUSH NARENDRA GHATE    EE  CSE\n",
       "4      5  230293                BHAVNOOR SINGH    ME  CSE\n",
       "..   ...     ...                           ...   ...  ...\n",
       "100  101  230288  BHARAMBE SARVESH PURUSHOTTAM   PHY   CE\n",
       "101  102  230138                ANIKEIT KHANNA  BSBE   CE\n",
       "102  103  231106                UDIT CHOUDHARY   PHY   CE\n",
       "103  104  230366                   DHRUV KUMAR   PHY   CE\n",
       "104  105  231150                   VIKAS MEENA    AE   CE\n",
       "\n",
       "[105 rows x 5 columns]"
      ]
     },
     "execution_count": 10,
     "metadata": {},
     "output_type": "execute_result"
    }
   ],
   "source": [
    "df"
   ]
  },
  {
   "cell_type": "code",
   "execution_count": 11,
   "id": "6baa2508-d160-4aa3-ac6e-5789f7496fa8",
   "metadata": {},
   "outputs": [],
   "source": [
    "df=df.rename(columns={0:'SN',1:'RollNo',2:'NAME',3:'OldBranch',4:'NewBranch'})"
   ]
  },
  {
   "cell_type": "code",
   "execution_count": 12,
   "id": "d299673e-9c2e-4e40-8e2c-741014123027",
   "metadata": {},
   "outputs": [],
   "source": [
    "df=df.drop('SN',axis=1)"
   ]
  },
  {
   "cell_type": "code",
   "execution_count": 13,
   "id": "3eb0f25a-448d-4f87-a2fe-6633e6f4b5aa",
   "metadata": {},
   "outputs": [
    {
     "data": {
      "text/html": [
       "<div>\n",
       "<style scoped>\n",
       "    .dataframe tbody tr th:only-of-type {\n",
       "        vertical-align: middle;\n",
       "    }\n",
       "\n",
       "    .dataframe tbody tr th {\n",
       "        vertical-align: top;\n",
       "    }\n",
       "\n",
       "    .dataframe thead th {\n",
       "        text-align: right;\n",
       "    }\n",
       "</style>\n",
       "<table border=\"1\" class=\"dataframe\">\n",
       "  <thead>\n",
       "    <tr style=\"text-align: right;\">\n",
       "      <th></th>\n",
       "      <th>RollNo</th>\n",
       "      <th>NAME</th>\n",
       "      <th>OldBranch</th>\n",
       "      <th>NewBranch</th>\n",
       "    </tr>\n",
       "  </thead>\n",
       "  <tbody>\n",
       "    <tr>\n",
       "      <th>0</th>\n",
       "      <td>230012</td>\n",
       "      <td>AARAV OSWAL</td>\n",
       "      <td>MTH</td>\n",
       "      <td>CSE</td>\n",
       "    </tr>\n",
       "    <tr>\n",
       "      <th>1</th>\n",
       "      <td>231065</td>\n",
       "      <td>SUVID GOEL</td>\n",
       "      <td>EE</td>\n",
       "      <td>CSE</td>\n",
       "    </tr>\n",
       "    <tr>\n",
       "      <th>2</th>\n",
       "      <td>230015</td>\n",
       "      <td>AARSH JAIN</td>\n",
       "      <td>MTH</td>\n",
       "      <td>CSE</td>\n",
       "    </tr>\n",
       "    <tr>\n",
       "      <th>3</th>\n",
       "      <td>230017</td>\n",
       "      <td>AARUSH NARENDRA GHATE</td>\n",
       "      <td>EE</td>\n",
       "      <td>CSE</td>\n",
       "    </tr>\n",
       "    <tr>\n",
       "      <th>4</th>\n",
       "      <td>230293</td>\n",
       "      <td>BHAVNOOR SINGH</td>\n",
       "      <td>ME</td>\n",
       "      <td>CSE</td>\n",
       "    </tr>\n",
       "    <tr>\n",
       "      <th>...</th>\n",
       "      <td>...</td>\n",
       "      <td>...</td>\n",
       "      <td>...</td>\n",
       "      <td>...</td>\n",
       "    </tr>\n",
       "    <tr>\n",
       "      <th>100</th>\n",
       "      <td>230288</td>\n",
       "      <td>BHARAMBE SARVESH PURUSHOTTAM</td>\n",
       "      <td>PHY</td>\n",
       "      <td>CE</td>\n",
       "    </tr>\n",
       "    <tr>\n",
       "      <th>101</th>\n",
       "      <td>230138</td>\n",
       "      <td>ANIKEIT KHANNA</td>\n",
       "      <td>BSBE</td>\n",
       "      <td>CE</td>\n",
       "    </tr>\n",
       "    <tr>\n",
       "      <th>102</th>\n",
       "      <td>231106</td>\n",
       "      <td>UDIT CHOUDHARY</td>\n",
       "      <td>PHY</td>\n",
       "      <td>CE</td>\n",
       "    </tr>\n",
       "    <tr>\n",
       "      <th>103</th>\n",
       "      <td>230366</td>\n",
       "      <td>DHRUV KUMAR</td>\n",
       "      <td>PHY</td>\n",
       "      <td>CE</td>\n",
       "    </tr>\n",
       "    <tr>\n",
       "      <th>104</th>\n",
       "      <td>231150</td>\n",
       "      <td>VIKAS MEENA</td>\n",
       "      <td>AE</td>\n",
       "      <td>CE</td>\n",
       "    </tr>\n",
       "  </tbody>\n",
       "</table>\n",
       "<p>105 rows × 4 columns</p>\n",
       "</div>"
      ],
      "text/plain": [
       "     RollNo                          NAME OldBranch NewBranch\n",
       "0    230012                   AARAV OSWAL       MTH       CSE\n",
       "1    231065                    SUVID GOEL        EE       CSE\n",
       "2    230015                    AARSH JAIN       MTH       CSE\n",
       "3    230017         AARUSH NARENDRA GHATE        EE       CSE\n",
       "4    230293                BHAVNOOR SINGH        ME       CSE\n",
       "..      ...                           ...       ...       ...\n",
       "100  230288  BHARAMBE SARVESH PURUSHOTTAM       PHY        CE\n",
       "101  230138                ANIKEIT KHANNA      BSBE        CE\n",
       "102  231106                UDIT CHOUDHARY       PHY        CE\n",
       "103  230366                   DHRUV KUMAR       PHY        CE\n",
       "104  231150                   VIKAS MEENA        AE        CE\n",
       "\n",
       "[105 rows x 4 columns]"
      ]
     },
     "execution_count": 13,
     "metadata": {},
     "output_type": "execute_result"
    }
   ],
   "source": [
    "df"
   ]
  },
  {
   "cell_type": "code",
   "execution_count": 14,
   "id": "c42f1e95-adf5-418f-8d7a-7f3c3d0b92ed",
   "metadata": {},
   "outputs": [
    {
     "data": {
      "text/plain": [
       "OldBranch\n",
       "CE      19\n",
       "CHM     18\n",
       "ES      17\n",
       "BSBE    11\n",
       "PHY      8\n",
       "AE       7\n",
       "ME       6\n",
       "CHE      5\n",
       "MTH      4\n",
       "ECO      4\n",
       "MSE      4\n",
       "EE       2\n",
       "Name: count, dtype: int64"
      ]
     },
     "execution_count": 14,
     "metadata": {},
     "output_type": "execute_result"
    }
   ],
   "source": [
    "df['OldBranch'].value_counts()"
   ]
  },
  {
   "cell_type": "code",
   "execution_count": 15,
   "id": "09cb9540-1bc1-4f8b-aabe-7e5eb1549ffe",
   "metadata": {},
   "outputs": [
    {
     "data": {
      "text/plain": [
       "NewBranch\n",
       "BSBE    16\n",
       "CE      14\n",
       "CHE     11\n",
       "ECO     10\n",
       "ME       9\n",
       "AE       9\n",
       "MTH      8\n",
       "EE       8\n",
       "MSE      7\n",
       "CSE      6\n",
       "SDS      4\n",
       "PHY      3\n",
       "Name: count, dtype: int64"
      ]
     },
     "execution_count": 15,
     "metadata": {},
     "output_type": "execute_result"
    }
   ],
   "source": [
    "df['NewBranch'].value_counts()"
   ]
  },
  {
   "cell_type": "markdown",
   "id": "7a6885ba-c159-4542-894f-ea8d81177418",
   "metadata": {},
   "source": [
    "#### Search by Student's Name"
   ]
  },
  {
   "cell_type": "code",
   "execution_count": null,
   "id": "c9767ea1-32be-48ed-bfd6-a7b1b9e952ac",
   "metadata": {},
   "outputs": [],
   "source": [
    "x=input()\n",
    "df[df['NAME'].str.contains(x.upper())].reset_index(drop=True)"
   ]
  },
  {
   "cell_type": "markdown",
   "id": "b9e3a5f6-8571-46da-8c25-a1a4fdc68449",
   "metadata": {},
   "source": [
    "#### Search by Student's Old Branch"
   ]
  },
  {
   "cell_type": "code",
   "execution_count": null,
   "id": "3531bf93-9ab5-4785-bde7-4d6aae403185",
   "metadata": {},
   "outputs": [],
   "source": [
    "x=input()\n",
    "df[df['OldBranch'] == x.upper()].reset_index(drop=True)"
   ]
  },
  {
   "cell_type": "markdown",
   "id": "3f020a63-452e-4555-aea7-c35b27f20e55",
   "metadata": {},
   "source": [
    "#### Search by Student's New Branch"
   ]
  },
  {
   "cell_type": "code",
   "execution_count": null,
   "id": "f4cc0cbf-4702-4c3b-9489-40032d084e7c",
   "metadata": {},
   "outputs": [],
   "source": [
    "x=input()\n",
    "df[df['NewBranch'] == x.upper()].reset_index(drop=True)"
   ]
  },
  {
   "cell_type": "markdown",
   "id": "f9f05576-07e1-4a32-a2a9-ace37e12082b",
   "metadata": {},
   "source": [
    "#### Search by Student's Old Branch and New Branch"
   ]
  },
  {
   "cell_type": "code",
   "execution_count": null,
   "id": "f62d990f-d9ff-49d9-afc1-428396b6fc61",
   "metadata": {},
   "outputs": [],
   "source": [
    "x=input()\n",
    "y=input()\n",
    "df[(df['OldBranch'].str.upper() == x.upper()) & (df['NewBranch'].str.upper() == y.upper())].reset_index(drop=True)"
   ]
  },
  {
   "cell_type": "code",
   "execution_count": null,
   "id": "875184b6-b2d3-43b4-830e-be4c71a099d3",
   "metadata": {},
   "outputs": [],
   "source": []
  }
 ],
 "metadata": {
  "kernelspec": {
   "display_name": "Python 3 (ipykernel)",
   "language": "python",
   "name": "python3"
  },
  "language_info": {
   "codemirror_mode": {
    "name": "ipython",
    "version": 3
   },
   "file_extension": ".py",
   "mimetype": "text/x-python",
   "name": "python",
   "nbconvert_exporter": "python",
   "pygments_lexer": "ipython3",
   "version": "3.12.2"
  }
 },
 "nbformat": 4,
 "nbformat_minor": 5
}
